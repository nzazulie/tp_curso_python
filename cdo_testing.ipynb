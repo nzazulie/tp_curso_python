{
 "cells": [
  {
   "cell_type": "code",
   "execution_count": 5,
   "metadata": {
    "collapsed": true
   },
   "outputs": [],
   "source": [
    "# Load required module\n",
    "import numpy as np\n",
    "import netCDF4\n",
    "from cdo import *"
   ]
  },
  {
   "cell_type": "code",
   "execution_count": 6,
   "metadata": {
    "collapsed": true
   },
   "outputs": [],
   "source": [
    "file = 'pr_Amon_CanESM2_historical_r1i1p1_193101-200512_SA.nc'"
   ]
  },
  {
   "cell_type": "code",
   "execution_count": 7,
   "metadata": {
    "collapsed": false
   },
   "outputs": [],
   "source": [
    "cdo = Cdo()\n",
    "# Compute the global mean monthly precipitation (as in section 7) and return it as a numpy array:\n",
    "mean_pr = np.squeeze(cdo.fldmean(input=file, returnArray='pr')) # Field Mean pr SA (da una serie temporal) \n",
    "years = cdo.showyear(input=file)"
   ]
  },
  {
   "cell_type": "code",
   "execution_count": 23,
   "metadata": {
    "collapsed": false
   },
   "outputs": [],
   "source": [
    "#pr_ene = np.squeeze(cdo.fldmean(input=file, returnArray='pr'))\n",
    "pr_box = np.squeeze(cdo.fldmean (input='-sellonlatbox,280,300,-40,-20 ' + file, returnArray='pr'))\n",
    "pr_box.shape\n",
    "plt.plot(pr_box*60*60*24)\n",
    "plt.show()"
   ]
  },
  {
   "cell_type": "code",
   "execution_count": 9,
   "metadata": {
    "collapsed": false
   },
   "outputs": [],
   "source": [
    "prSA_anom = np.squeeze(cdo.sub(input = '-fldmean ' + file + ' -timmean -selyear,1971/2000 -fldmean ' + file, returnArray='pr', options = '-L'))"
   ]
  },
  {
   "cell_type": "code",
   "execution_count": 10,
   "metadata": {
    "collapsed": false
   },
   "outputs": [],
   "source": [
    "pr_anu = cdo.yearmean (input= '-fldmean ' + file, returnArray='pr')\n"
   ]
  },
  {
   "cell_type": "code",
   "execution_count": null,
   "metadata": {
    "collapsed": true
   },
   "outputs": [],
   "source": []
  }
 ],
 "metadata": {
  "kernelspec": {
   "display_name": "Python [Root]",
   "language": "python",
   "name": "Python [Root]"
  },
  "language_info": {
   "codemirror_mode": {
    "name": "ipython",
    "version": 3
   },
   "file_extension": ".py",
   "mimetype": "text/x-python",
   "name": "python",
   "nbconvert_exporter": "python",
   "pygments_lexer": "ipython3",
   "version": "3.5.2"
  }
 },
 "nbformat": 4,
 "nbformat_minor": 0
}
